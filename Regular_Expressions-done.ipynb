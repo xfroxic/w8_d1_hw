{
 "cells": [
  {
   "cell_type": "markdown",
   "metadata": {
    "id": "09G0-vjfqv-_"
   },
   "source": [
    "Click <a href='https://www.dataquest.io/blog/web-scraping-tutorial-python/'>here</a> to learn about Regular Expressions (RegEx) using Python."
   ]
  },
  {
   "cell_type": "code",
   "execution_count": null,
   "metadata": {
    "id": "XnNKbcLdqv_M"
   },
   "outputs": [],
   "source": [
    "########################\n",
    "# DO NOT RUN THIS CELL #\n",
    "########################\n",
    "\n",
    "a, X, 9, < -- ordinary characters just match themselves exactly.\n",
    ". (a period) -- matches any single character except newline '\\n'\n",
    "\\w -- matches a \"word\" character: a letter or digit or underbar [a-zA-Z0-9_].\n",
    "\\W -- matches any non-word character.\n",
    "\\b -- matches word boundary (in between a word character and a non word character)\n",
    "\\s -- matches a single whitespace character -- space, newline, return, tab\n",
    "\\S -- matches any non-whitespace character.\n",
    "\\t, \\n, \\r -- tab, newline, return\n",
    "\\d -- matches any numeric digit [0-9]\n",
    "\\D matches any non-numeric character.\n",
    "^ -- matches the beginning of the string, or specify omition of certain characters\n",
    "$ -- matches the end of the string\n",
    "\\ -- escapes special character.\n",
    "(x|y|z) matches exactly one of x, y or z.\n",
    "(x) in general is a remembered group. We can get the value of what matched by using the groups() method of the object returned by re.search.\n",
    "x? matches an optional x character (in other words, it matches an x zero or one times).\n",
    "x* matches x zero or more times.\n",
    "x+ matches x one or more times.\n",
    "x{m,n} matches an x character at least m times, but not more than n times.\n",
    "?: matches an expression but do not capture it. Non capturing group.\n",
    "?= matches a suffix but exclude it from capture. Positive lookahead.\n",
    "a(?=b) will match the \"a\" in \"ab\", but not the \"a\" in \"ac\"\n",
    "In other words, a(?=b) matches the \"a\" which is followed by the string 'b', without consuming what follows the a.\n",
    "?! matches if suffix is absent. Negative look ahead.\n",
    "a(?!b) will match the \"a\" in \"ac\", but not the \"a\" in \"ab\"\n",
    "?<= positive look behind\n",
    "[] matches for groupings of consecutive characters\n",
    "?<! negative look behind\n",
    "\n",
    "########################\n",
    "# DO NOT RUN THIS CELL #\n",
    "########################"
   ]
  },
  {
   "cell_type": "markdown",
   "metadata": {
    "id": "aQbvpMJKqv_O"
   },
   "source": [
    "What are word boundaries?\n",
    "--------------------------------------------------\n",
    "Before the first character in the string, if the first character is a word character.<br>\n",
    "After the last character in the string, if the last character is a word character.<br>\n",
    "Between two characters in the string, where one is a word character and the other is not a word character<br>"
   ]
  },
  {
   "cell_type": "code",
   "execution_count": 4,
   "metadata": {},
   "outputs": [],
   "source": [
    "import re\n",
    "\n",
    "# open a new data stream into a file\n",
    "file = open('./names.txt', encoding='utf-8')\n",
    "\n",
    "# read the text of the file and store it as Python data\n",
    "data = file.read()\n",
    "\n",
    "# always close the data stream\n",
    "file.close()"
   ]
  },
  {
   "cell_type": "markdown",
   "metadata": {},
   "source": [
    "### Search for names"
   ]
  },
  {
   "cell_type": "code",
   "execution_count": 5,
   "metadata": {
    "scrolled": true
   },
   "outputs": [
    {
     "data": {
      "text/plain": [
       "bytes"
      ]
     },
     "execution_count": 5,
     "metadata": {},
     "output_type": "execute_result"
    }
   ],
   "source": [
    "type(b'e0r9dfizbjpgSd')"
   ]
  },
  {
   "cell_type": "code",
   "execution_count": 6,
   "metadata": {},
   "outputs": [
    {
     "data": {
      "text/plain": [
       "str"
      ]
     },
     "execution_count": 6,
     "metadata": {},
     "output_type": "execute_result"
    }
   ],
   "source": [
    "type('asdfdgnf')"
   ]
  },
  {
   "cell_type": "code",
   "execution_count": 7,
   "metadata": {},
   "outputs": [
    {
     "data": {
      "text/plain": [
       "str"
      ]
     },
     "execution_count": 7,
     "metadata": {},
     "output_type": "execute_result"
    }
   ],
   "source": [
    "type(r'aisojdsio')"
   ]
  },
  {
   "cell_type": "code",
   "execution_count": 8,
   "metadata": {},
   "outputs": [],
   "source": [
    "# re.match - Searches from the very beginning of the string only"
   ]
  },
  {
   "cell_type": "code",
   "execution_count": 9,
   "metadata": {
    "scrolled": true
   },
   "outputs": [
    {
     "data": {
      "text/plain": [
       "<re.Match object; span=(0, 7), match='Hawkins'>"
      ]
     },
     "execution_count": 9,
     "metadata": {},
     "output_type": "execute_result"
    }
   ],
   "source": [
    "re.match(r'Hawkins', data)"
   ]
  },
  {
   "cell_type": "code",
   "execution_count": 10,
   "metadata": {},
   "outputs": [],
   "source": [
    "re.match(r'Vader', data)"
   ]
  },
  {
   "cell_type": "code",
   "execution_count": 11,
   "metadata": {},
   "outputs": [],
   "source": [
    "# re.search - Returns the first match anywhere within the string"
   ]
  },
  {
   "cell_type": "code",
   "execution_count": 12,
   "metadata": {},
   "outputs": [
    {
     "data": {
      "text/plain": [
       "<re.Match object; span=(0, 7), match='Hawkins'>"
      ]
     },
     "execution_count": 12,
     "metadata": {},
     "output_type": "execute_result"
    }
   ],
   "source": [
    "re.search(r'Hawkins', data)"
   ]
  },
  {
   "cell_type": "code",
   "execution_count": 13,
   "metadata": {},
   "outputs": [
    {
     "data": {
      "text/plain": [
       "<re.Match object; span=(754, 759), match='Vader'>"
      ]
     },
     "execution_count": 13,
     "metadata": {},
     "output_type": "execute_result"
    }
   ],
   "source": [
    "re.search(r'Vader', data)"
   ]
  },
  {
   "cell_type": "code",
   "execution_count": 14,
   "metadata": {},
   "outputs": [
    {
     "data": {
      "text/plain": [
       "<re.Match object; span=(0, 1), match='H'>"
      ]
     },
     "execution_count": 14,
     "metadata": {},
     "output_type": "execute_result"
    }
   ],
   "source": [
    "re.search(r'\\w', data)"
   ]
  },
  {
   "cell_type": "code",
   "execution_count": 15,
   "metadata": {},
   "outputs": [
    {
     "data": {
      "text/plain": [
       "<re.Match object; span=(6, 10), match='s, D'>"
      ]
     },
     "execution_count": 15,
     "metadata": {},
     "output_type": "execute_result"
    }
   ],
   "source": [
    "re.search(r'\\w, \\w', data)"
   ]
  },
  {
   "cell_type": "code",
   "execution_count": 16,
   "metadata": {},
   "outputs": [
    {
     "data": {
      "text/plain": [
       "<re.Match object; span=(0, 14), match='Hawkins, Derek'>"
      ]
     },
     "execution_count": 16,
     "metadata": {},
     "output_type": "execute_result"
    }
   ],
   "source": [
    "re.search(r'\\w\\w\\w\\w\\w\\w\\w, \\w\\w\\w\\w\\w', data)"
   ]
  },
  {
   "cell_type": "code",
   "execution_count": 17,
   "metadata": {},
   "outputs": [
    {
     "data": {
      "text/plain": [
       "<re.Match object; span=(0, 14), match='Hawkins, Derek'>"
      ]
     },
     "execution_count": 17,
     "metadata": {},
     "output_type": "execute_result"
    }
   ],
   "source": [
    "re.search(r'\\w{7}, \\w{5}', data)"
   ]
  },
  {
   "cell_type": "code",
   "execution_count": 18,
   "metadata": {
    "scrolled": true
   },
   "outputs": [
    {
     "data": {
      "text/plain": [
       "<re.Match object; span=(0, 14), match='Hawkins, Derek'>"
      ]
     },
     "execution_count": 18,
     "metadata": {},
     "output_type": "execute_result"
    }
   ],
   "source": [
    "re.search(r'\\w+, \\w+', data)"
   ]
  },
  {
   "cell_type": "markdown",
   "metadata": {},
   "source": [
    "### Search for phone numbers"
   ]
  },
  {
   "cell_type": "code",
   "execution_count": 19,
   "metadata": {},
   "outputs": [
    {
     "ename": "SyntaxError",
     "evalue": "invalid syntax (<ipython-input-19-21c77f103b24>, line 1)",
     "output_type": "error",
     "traceback": [
      "\u001b[0;36m  File \u001b[0;32m\"<ipython-input-19-21c77f103b24>\"\u001b[0;36m, line \u001b[0;32m1\u001b[0m\n\u001b[0;31m    'Derek's Hawkins'\u001b[0m\n\u001b[0m           ^\u001b[0m\n\u001b[0;31mSyntaxError\u001b[0m\u001b[0;31m:\u001b[0m invalid syntax\n"
     ]
    }
   ],
   "source": [
    "'Derek's Hawkins' "
   ]
  },
  {
   "cell_type": "code",
   "execution_count": 20,
   "metadata": {},
   "outputs": [
    {
     "data": {
      "text/plain": [
       "\"Derek's Hawkins\""
      ]
     },
     "execution_count": 20,
     "metadata": {},
     "output_type": "execute_result"
    }
   ],
   "source": [
    "'Derek\\'s Hawkins' "
   ]
  },
  {
   "cell_type": "code",
   "execution_count": 21,
   "metadata": {
    "scrolled": true
   },
   "outputs": [
    {
     "data": {
      "text/plain": [
       "<re.Match object; span=(613, 625), match='555 555-5551'>"
      ]
     },
     "execution_count": 21,
     "metadata": {},
     "output_type": "execute_result"
    }
   ],
   "source": [
    "re.search(r'(\\d\\d\\d) \\d\\d\\d-\\d\\d\\d\\d', data)"
   ]
  },
  {
   "cell_type": "code",
   "execution_count": 22,
   "metadata": {
    "scrolled": false
   },
   "outputs": [
    {
     "data": {
      "text/plain": [
       "<re.Match object; span=(38, 52), match='(555) 555-5555'>"
      ]
     },
     "execution_count": 22,
     "metadata": {},
     "output_type": "execute_result"
    }
   ],
   "source": [
    "re.search(r'\\(\\d\\d\\d\\) \\d\\d\\d-\\d\\d\\d\\d', data)"
   ]
  },
  {
   "cell_type": "code",
   "execution_count": 23,
   "metadata": {},
   "outputs": [
    {
     "data": {
      "text/plain": [
       "<re.Match object; span=(38, 52), match='(555) 555-5555'>"
      ]
     },
     "execution_count": 23,
     "metadata": {},
     "output_type": "execute_result"
    }
   ],
   "source": [
    "re.search(r'\\(\\d\\d\\d\\) \\d\\d\\d-\\d\\d\\d\\d', data)"
   ]
  },
  {
   "cell_type": "code",
   "execution_count": 24,
   "metadata": {
    "scrolled": true
   },
   "outputs": [
    {
     "data": {
      "text/plain": [
       "<re.Match object; span=(38, 52), match='(555) 555-5555'>"
      ]
     },
     "execution_count": 24,
     "metadata": {},
     "output_type": "execute_result"
    }
   ],
   "source": [
    "re.search(r'\\(\\d{3}\\) \\d{3}-\\d{4}', data)"
   ]
  },
  {
   "cell_type": "code",
   "execution_count": 25,
   "metadata": {},
   "outputs": [
    {
     "data": {
      "text/plain": [
       "<re.Match object; span=(38, 52), match='(555) 555-5555'>"
      ]
     },
     "execution_count": 25,
     "metadata": {},
     "output_type": "execute_result"
    }
   ],
   "source": [
    "re.search(r'\\(\\d{3}\\)\\s\\d{3}-\\d{4}', data)"
   ]
  },
  {
   "cell_type": "markdown",
   "metadata": {
    "id": "_jhz8AUKqv_X"
   },
   "source": [
    "<strong>Exercise 1</strong>:<br>\n",
    "Write a function that checks for n number of consecutive digits and returns the match"
   ]
  },
  {
   "cell_type": "code",
   "execution_count": 26,
   "metadata": {},
   "outputs": [
    {
     "data": {
      "text/plain": [
       "<re.Match object; span=(405, 407), match='43'>"
      ]
     },
     "execution_count": 26,
     "metadata": {},
     "output_type": "execute_result"
    }
   ],
   "source": [
    "re.search(fr'\\d{3}', data)"
   ]
  },
  {
   "cell_type": "code",
   "execution_count": 27,
   "metadata": {},
   "outputs": [],
   "source": [
    "def find_digits(n, searchable_text):\n",
    "    return re.search(rf'\\d{n}', searchable_text)"
   ]
  },
  {
   "cell_type": "code",
   "execution_count": 28,
   "metadata": {},
   "outputs": [
    {
     "data": {
      "text/plain": [
       "<re.Match object; span=(405, 407), match='43'>"
      ]
     },
     "execution_count": 28,
     "metadata": {},
     "output_type": "execute_result"
    }
   ],
   "source": [
    "find_digits(3, data)"
   ]
  },
  {
   "cell_type": "code",
   "execution_count": null,
   "metadata": {},
   "outputs": [],
   "source": []
  },
  {
   "cell_type": "code",
   "execution_count": 29,
   "metadata": {},
   "outputs": [],
   "source": [
    "# THIS WORKS. DON'T KNOW WHY\n",
    "def find_digits(n, searchable_text):\n",
    "    return re.search(fr'\\d{{{n}}}', searchable_text)"
   ]
  },
  {
   "cell_type": "code",
   "execution_count": 30,
   "metadata": {},
   "outputs": [
    {
     "data": {
      "text/plain": [
       "<re.Match object; span=(39, 42), match='555'>"
      ]
     },
     "execution_count": 30,
     "metadata": {},
     "output_type": "execute_result"
    }
   ],
   "source": [
    "find_digits(3, data)"
   ]
  },
  {
   "cell_type": "code",
   "execution_count": null,
   "metadata": {},
   "outputs": [],
   "source": []
  },
  {
   "cell_type": "code",
   "execution_count": 31,
   "metadata": {},
   "outputs": [],
   "source": [
    "def find_digits(n, searchable_text):\n",
    "    return re.search(fr'\\d' * n, searchable_text)"
   ]
  },
  {
   "cell_type": "code",
   "execution_count": 32,
   "metadata": {},
   "outputs": [
    {
     "data": {
      "text/plain": [
       "<re.Match object; span=(39, 42), match='555'>"
      ]
     },
     "execution_count": 32,
     "metadata": {},
     "output_type": "execute_result"
    }
   ],
   "source": [
    "find_digits(3, data)"
   ]
  },
  {
   "cell_type": "code",
   "execution_count": null,
   "metadata": {},
   "outputs": [],
   "source": []
  },
  {
   "cell_type": "code",
   "execution_count": 33,
   "metadata": {},
   "outputs": [],
   "source": [
    "def find_digits(n, searchable_text):\n",
    "    return re.search(r'\\d{3}', searchable_text)"
   ]
  },
  {
   "cell_type": "code",
   "execution_count": 34,
   "metadata": {
    "scrolled": true
   },
   "outputs": [
    {
     "data": {
      "text/plain": [
       "<re.Match object; span=(39, 42), match='555'>"
      ]
     },
     "execution_count": 34,
     "metadata": {},
     "output_type": "execute_result"
    }
   ],
   "source": [
    "find_digits(3, data)"
   ]
  },
  {
   "cell_type": "code",
   "execution_count": null,
   "metadata": {},
   "outputs": [],
   "source": []
  },
  {
   "cell_type": "code",
   "execution_count": 46,
   "metadata": {},
   "outputs": [],
   "source": [
    "# .findall - Returns a list of matching patterns\n",
    "\n",
    "phone_numbers = \"(555) 555-5555 (555) +1 (555) 555-5548 (555) 555-5554 555-555-5553 555-555-5552 555-555-5551 555 555-5550 555 555-5549\""
   ]
  },
  {
   "cell_type": "code",
   "execution_count": 48,
   "metadata": {
    "scrolled": true
   },
   "outputs": [
    {
     "data": {
      "text/plain": [
       "['(555) 555-5555', '(555) 555-5548', '(555) 555-5554']"
      ]
     },
     "execution_count": 48,
     "metadata": {},
     "output_type": "execute_result"
    }
   ],
   "source": [
    "# return with parans\n",
    "re.findall(r'\\(\\d{3}\\)\\s\\d{3}-\\d{4}', phone_numbers)"
   ]
  },
  {
   "cell_type": "code",
   "execution_count": 49,
   "metadata": {},
   "outputs": [
    {
     "data": {
      "text/plain": [
       "['555-555-5553', '555-555-5552', '555-555-5551']"
      ]
     },
     "execution_count": 49,
     "metadata": {},
     "output_type": "execute_result"
    }
   ],
   "source": [
    "# return w/o parans\n",
    "re.findall(r'\\d{3}-\\d{3}-\\d{4}', phone_numbers)"
   ]
  },
  {
   "cell_type": "code",
   "execution_count": 50,
   "metadata": {},
   "outputs": [
    {
     "data": {
      "text/plain": [
       "['555 555-5550', '555 555-5549']"
      ]
     },
     "execution_count": 50,
     "metadata": {},
     "output_type": "execute_result"
    }
   ],
   "source": [
    "# return with only a space parans\n",
    "re.findall(r'\\d{3}\\s\\d{3}-\\d{4}', phone_numbers)"
   ]
  },
  {
   "cell_type": "code",
   "execution_count": 52,
   "metadata": {
    "scrolled": true
   },
   "outputs": [
    {
     "data": {
      "text/plain": [
       "['(555) 555-5555',\n",
       " '+1 (555) 555-5548',\n",
       " ' (555) 555-5554',\n",
       " ' 555-555-5553',\n",
       " ' 555-555-5552',\n",
       " ' 555-555-5551',\n",
       " ' 555 555-5550',\n",
       " ' 555 555-5549']"
      ]
     },
     "execution_count": 52,
     "metadata": {},
     "output_type": "execute_result"
    }
   ],
   "source": [
    "# Search for all phone number patterns\n",
    "re.findall(r'\\+?\\d?\\s?\\(?\\d{3}\\)?\\s?-?\\d{3}-\\d{4}', phone_numbers)"
   ]
  },
  {
   "cell_type": "code",
   "execution_count": 55,
   "metadata": {
    "scrolled": true
   },
   "outputs": [
    {
     "data": {
      "text/plain": [
       "['Hawkins, Derek',\n",
       " 'Teacher, Coding',\n",
       " 'Milliken, Connor',\n",
       " 'Teacher, Coding',\n",
       " 'Johnson, Joe',\n",
       " 'Carter, Joel',\n",
       " 'Österberg, Sven',\n",
       " 'Governor, Norrbotten',\n",
       " 'Enchanter, Killer',\n",
       " 'Butz, Ryan',\n",
       " 'CEO, Coding',\n",
       " 'Doctor, The',\n",
       " 'Lord, Gallifrey',\n",
       " 'Exampleson, Example',\n",
       " 'Example, Example',\n",
       " 'Obama, Barack',\n",
       " 'President, United',\n",
       " 'Patel, Ripal',\n",
       " 'Teacher, Coding',\n",
       " 'Vader, Darth',\n",
       " 'Lord, Galactic',\n",
       " 'Sanz, María',\n",
       " 'Minister, Spanish']"
      ]
     },
     "execution_count": 55,
     "metadata": {},
     "output_type": "execute_result"
    }
   ],
   "source": [
    "# Search for names\n",
    "re.findall(r'\\w+,\\s\\w+', data)"
   ]
  },
  {
   "cell_type": "code",
   "execution_count": 57,
   "metadata": {
    "scrolled": true
   },
   "outputs": [
    {
     "data": {
      "text/plain": [
       "['derek@codingtemple.com',\n",
       " 'connor@codingtemple.com',\n",
       " 'joejohnson@codingtemple.com',\n",
       " 'governor@norrbotten.co.se',\n",
       " 'tim@killerrabbit.com',\n",
       " 'ryanb@codingtemple.com',\n",
       " 'doctor+companion@tardis.co.uk',\n",
       " 'me@example.com',\n",
       " 'president.44@us.gov',\n",
       " 'ripalp@codingtemple.com',\n",
       " 'vader@empire.gov',\n",
       " 'mtfvs@spain.gov']"
      ]
     },
     "execution_count": 57,
     "metadata": {},
     "output_type": "execute_result"
    }
   ],
   "source": [
    "# Search for emails\n",
    "re.findall(r'[\\d\\w\\'-+.]+@[-.\\d\\w]+', data)"
   ]
  },
  {
   "cell_type": "code",
   "execution_count": 16,
   "metadata": {
    "scrolled": true
   },
   "outputs": [
    {
     "data": {
      "text/plain": [
       "['@codingtemple.com',\n",
       " '@codingtemple.com',\n",
       " '@codingtemple.com',\n",
       " '@ilstu.edu',\n",
       " '@codingtemple.com',\n",
       " '@codingtemple.edu']"
      ]
     },
     "execution_count": 16,
     "metadata": {},
     "output_type": "execute_result"
    }
   ],
   "source": [
    "information = \"\"\"\n",
    "Patel, Ripal : ripalp@codingtemple.com : 555 555-5555\n",
    "Carter, Joel : joelc@codingtemple.com : (555) 555-5555\n",
    "Girolamo, Frank : frankg@codingtemple.com : +1 (555) 555-5555\n",
    "Stanton, Brian : brains@ilstu.edu : 555-555-5555\n",
    "Castle, Lu : lucasl@codingtemple.com : (555) 555-5555\n",
    "Butz, Ryan : ryanb@codingtemple.edu : +1 (555) 555-5555\n",
    "\"\"\"\n",
    "\n",
    "re.findall(r'@[-.\\d\\w]+', information)"
   ]
  },
  {
   "cell_type": "code",
   "execution_count": 71,
   "metadata": {},
   "outputs": [
    {
     "data": {
      "text/plain": [
       "['ripalp@codingtemple.com',\n",
       " 'joelc@codingtemple.com',\n",
       " 'frankg@codingtemple.com',\n",
       " 'lucasl@codingtemple.com',\n",
       " 'ryanb@codingtemple.']"
      ]
     },
     "execution_count": 71,
     "metadata": {},
     "output_type": "execute_result"
    }
   ],
   "source": [
    "re.findall(r'[\\d\\w\\'-+.]+@[tmplecoding]+[.com]+', information)"
   ]
  },
  {
   "cell_type": "markdown",
   "metadata": {
    "id": "_jhz8AUKqv_X"
   },
   "source": [
    "<strong>Exercise 2</strong>:<br>\n",
    "Use Regular Expressions to pull the last phone number with the country code in the list using .findall()"
   ]
  },
  {
   "cell_type": "code",
   "execution_count": null,
   "metadata": {},
   "outputs": [],
   "source": [
    "# our_emails = ['jordanw@codingtemple.orgcom', 'pocohontas1234@gmail.com', 'helloworld@aol..com', 'yourfavoriteband@g6.org', '@codingtemplecom']"
   ]
  },
  {
   "cell_type": "markdown",
   "metadata": {
    "id": "9OdDhA0Yqv_i"
   },
   "source": [
    "##### Exercise 2:\n",
    "\n",
    "Write a function using regular expressions to find the domain name in the given email addresses (and return None for the invalid email addresses)<br><b>HINT: Use '|' for either or</b>"
   ]
  },
  {
   "cell_type": "code",
   "execution_count": 72,
   "metadata": {},
   "outputs": [],
   "source": [
    "# skip"
   ]
  },
  {
   "cell_type": "markdown",
   "metadata": {
    "id": "GrUS6toGqv_i"
   },
   "source": [
    "##### Exercise 3: \n",
    "\n",
    "Use a regular expression to find every number in the given string"
   ]
  },
  {
   "cell_type": "code",
   "execution_count": 73,
   "metadata": {},
   "outputs": [],
   "source": [
    "# skip"
   ]
  },
  {
   "cell_type": "code",
   "execution_count": null,
   "metadata": {},
   "outputs": [],
   "source": [
    "# VERBOSE - re.X\n",
    "# MULTILINE - re.M\n",
    "# IGNORECASE - re.I"
   ]
  },
  {
   "cell_type": "code",
   "execution_count": 17,
   "metadata": {
    "scrolled": false
   },
   "outputs": [
    {
     "name": "stdout",
     "output_type": "stream",
     "text": [
      "Name: Patel, Ripal\n",
      "Email: ripalp@codingtemple.com\n",
      "Phone: 555 555-5555\n",
      "\n",
      "Name: Carter, Joel\n",
      "Email: joelc@codingtemple.com\n",
      "Phone: (555) 555-5555\n",
      "\n",
      "Name: Girolamo, Frank\n",
      "Email: frankg@codingtemple.com\n",
      "Phone: +1 (555) 555-5555\n",
      "\n",
      "Name: Stanton, Brian\n",
      "Email: brains@ilstu.edu\n",
      "Phone: 555-555-5555\n",
      "\n",
      "Name: Castle, Lu\n",
      "Email: lucasl@codingtemple.com\n",
      "Phone: (555) 555-5555\n",
      "\n",
      "Name: Butz, Ryan\n",
      "Email: ryanb@codingtemple.edu\n",
      "Phone: +1 (555) 555-5555\n",
      "\n"
     ]
    }
   ],
   "source": [
    "\n",
    "info = re.findall(r'''\n",
    "    ([\\w]+,\\s[\\w]+)                             # last name, first name\n",
    "    \\s:\\s\n",
    "    ([\\d\\w\\'-+.]+@[.-/\\w\\d]+)                   # email\n",
    "    \\s:\\s\n",
    "    (\\+?\\d?\\s?\\(?\\d{3}\\)?\\s?-?\\d{3}-\\d{4})      # phone number\n",
    "''', information, re.X)\n",
    "\n",
    "people = []\n",
    "\n",
    "for person in info:\n",
    "    person_dict = {\n",
    "        'name': person[0],\n",
    "        'email': person[1],\n",
    "        'phone': person[2],\n",
    "    }\n",
    "    people.append(person_dict)\n",
    "    \n",
    "for p in people:\n",
    "    print(f\"Name: {p['name']}\")\n",
    "    print(f\"Email: {p['email']}\")\n",
    "    print(f\"Phone: {p['phone']}\")\n",
    "    print()"
   ]
  },
  {
   "cell_type": "code",
   "execution_count": 12,
   "metadata": {},
   "outputs": [],
   "source": [
    "newer_information = \"\"\"\n",
    "Hawkins, Derek : derekh@codingtemple.com : 555-555-5555\n",
    "Davis, Miles : milesd@codingtemple.com : (555) 555-5555\n",
    "Davitt, Sam : samd@codingtemple.edu : +1 (555) 555-5555\n",
    "\"\"\""
   ]
  },
  {
   "cell_type": "code",
   "execution_count": 13,
   "metadata": {},
   "outputs": [],
   "source": [
    "new_info = re.compile(r'''\n",
    "    (?P<name>[\\w]+,\\s[\\w]+)                              # last name, first name\n",
    "    \\s:\\s\n",
    "    (?P<email>[\\d\\w\\'-+.]+@[.-/\\w\\d]+)                   # email\n",
    "    \\s:\\s\n",
    "    (?P<phone>\\+?\\d?\\s?\\(?\\d{3}\\)?\\s?-?\\d{3}-\\d{4})      # phone number\n",
    "''', re.X)"
   ]
  },
  {
   "cell_type": "code",
   "execution_count": 14,
   "metadata": {
    "scrolled": false
   },
   "outputs": [
    {
     "name": "stdout",
     "output_type": "stream",
     "text": [
      "Name: Hawkins, Derek\n",
      "Email: derekh@codingtemple.com\n",
      "Phone: 555-555-5555\n",
      "\n",
      "Name: Davis, Miles\n",
      "Email: milesd@codingtemple.com\n",
      "Phone: (555) 555-5555\n",
      "\n",
      "Name: Davitt, Sam\n",
      "Email: samd@codingtemple.edu\n",
      "Phone: +1 (555) 555-5555\n",
      "\n"
     ]
    }
   ],
   "source": [
    "for p in new_info.finditer(newer_information):\n",
    "    print(f\"Name: {p.group('name')}\\nEmail: {p.group('email')}\\nPhone: {p.group('phone')}\\n\")"
   ]
  },
  {
   "cell_type": "code",
   "execution_count": 143,
   "metadata": {},
   "outputs": [
    {
     "data": {
      "text/plain": [
       "['Hawkins, Derek\\tderek',\n",
       " '5555\\tTeacher, Coding Temple\\t',\n",
       " 'derekhawkins\\nMilliken, Connor\\tconnor',\n",
       " '5554\\tTeacher, Coding Temple\\nJohnson',\n",
       " 'com\\t\\tCarter, Joel\\nÖsterberg',\n",
       " 'se\\t\\tGovernor, Norrbotten\\t',\n",
       " 'sverik\\n, Tim\\ttim',\n",
       " 'com\\t\\tEnchanter, Killer Rabbit Cave\\nButz',\n",
       " '5543\\tCEO, Coding Temple\\t',\n",
       " 'ryanbutz\\nDoctor, The\\tdoctor',\n",
       " 'uk\\t\\tTime Lord, Gallifrey\\nExampleson',\n",
       " '5552\\tExample, Example Co',\n",
       " 'example\\nObama, Barack\\tpresident',\n",
       " '5551\\tPresident, United States of America\\t',\n",
       " 'potus44\\nPatel, Ripal\\tripalp',\n",
       " '5553\\tTeacher, Coding Temple\\t',\n",
       " 'ripalp\\nVader, Darth\\tdarth',\n",
       " '4444\\tSith Lord, Galactic Empire\\t',\n",
       " 'darthvader\\nFernández de la Vega Sanz, María Teresa\\tmtfvs',\n",
       " 'gov\\t\\tFirst Deputy Prime Minister, Spanish Govt']"
      ]
     },
     "execution_count": 143,
     "metadata": {},
     "output_type": "execute_result"
    }
   ],
   "source": [
    "re.findall(r'[\\s\\w]+?,[\\s\\w]+', data)"
   ]
  },
  {
   "cell_type": "markdown",
   "metadata": {
    "id": "5PaSgzNfqv_j"
   },
   "source": [
    "### Homework Exercise <br>\n",
    "<p>Print each persons name and twitter handle etc., using groups, should look like:</p>"
   ]
  },
  {
   "cell_type": "code",
   "execution_count": 107,
   "metadata": {
    "id": "uCqCIM4wqv_f"
   },
   "outputs": [],
   "source": [
    "# [\n",
    "#     ([first name] [last name],\n",
    "#      email, \n",
    "#      phone,\n",
    "#      title,\n",
    "#      Twitter handle)\n",
    "# ]"
   ]
  },
  {
   "cell_type": "code",
   "execution_count": 2,
   "metadata": {
    "id": "7kT3QdAUqv_j"
   },
   "outputs": [],
   "source": [
    "import re\n",
    "\n",
    "# open a new data stream into a file\n",
    "file = open('./names.txt', encoding='utf-8')\n",
    "\n",
    "# read the text of the file and store it as Python data\n",
    "data = file.read()\n",
    "\n",
    "# always close the data stream\n",
    "file.close()"
   ]
  },
  {
   "cell_type": "code",
   "execution_count": 38,
   "metadata": {},
   "outputs": [
    {
     "name": "stdout",
     "output_type": "stream",
     "text": [
      "Name: Hawkins, Derek\n",
      "Email: derek@codingtemple.com\n",
      "Phone: (555) 555-5555\n",
      "Title: Teacher, Coding Temple\n",
      "Twitter: \t@derekhawkins\n",
      "\n",
      "Name: Milliken, Connor\n",
      "Email: connor@codingtemple.com\n",
      "Phone: (555) 555-5554\n",
      "Title: Teacher, Coding Temple\n",
      "Twitter: \n",
      "\n",
      "Name: Johnson, Joe\n",
      "Email: joejohnson@codingtemple.com\n",
      "Phone: \n",
      "Title: Carter, Joel\n",
      "Österberg\n",
      "Twitter: \n",
      "\n",
      "Name: Butz, Ryan\n",
      "Email: ryanb@codingtemple.com\n",
      "Phone: (555) 555-5543\n",
      "Title: CEO, Coding Temple\n",
      "Twitter: \t@ryanbutz\n",
      "\n",
      "Name: Doctor, The\n",
      "Email: doctor+companion@tardis.co.uk\n",
      "Phone: \n",
      "Title: \n",
      "Twitter: \n",
      "\n",
      "Name: Exampleson, Example\n",
      "Email: me@example.com\n",
      "Phone: 555-555-5552\n",
      "Title: Example, Example Co\n",
      "Twitter: \n",
      "\n",
      "Name: Obama, Barack\n",
      "Email: president.44@us.gov\n",
      "Phone: 555 555-5551\n",
      "Title: President, United States\n",
      "Twitter: \n",
      "\n",
      "Name: Patel, Ripal\n",
      "Email: ripalp@codingtemple.com\n",
      "Phone: (555) 555-5553\n",
      "Title: Teacher, Coding Temple\n",
      "Twitter: \t@ripalp\n",
      "\n"
     ]
    }
   ],
   "source": [
    "info = re.findall(r\"\"\"\n",
    "    ([\\w]+?,\\s[\\w]+)                             # last name, first name\n",
    "    \\s\n",
    "    ([\\d\\w\\'-+.]+@[.-/\\w\\d]+)?                   # email\n",
    "    \\s\n",
    "    (\\+?\\d?\\s?\\(?\\d{3}\\)?\\s?-?\\d{3}-\\d{4})?      # phone number\n",
    "    \\s\n",
    "    ([\\w]+,\\s[\\w]+\\s[\\w]+)?                             # title\n",
    "    (\\s@[\\w]+)?                                    # twitter\n",
    "\"\"\", data, re.X)\n",
    "\n",
    "people = []\n",
    "\n",
    "for person in info:\n",
    "    person_dict = {\n",
    "        'name': person[0],\n",
    "        'email': person[1],\n",
    "        'phone': person[2],\n",
    "        'title': person[3],\n",
    "        'twitter': person[4],\n",
    "    }\n",
    "    people.append(person_dict)\n",
    "    \n",
    "for p in people:\n",
    "    print(f\"Name: {p['name']}\")\n",
    "    print(f\"Email: {p['email']}\")\n",
    "    print(f\"Phone: {p['phone']}\")\n",
    "    print(f\"Title: {p['title']}\")\n",
    "    print(f\"Twitter: {p['twitter']}\")\n",
    "    print()\n",
    "\n",
    "# twitter = re.findall(r'(\\s@[\\w]+)', data)\n",
    "# print(info)"
   ]
  },
  {
   "cell_type": "code",
   "execution_count": null,
   "metadata": {},
   "outputs": [],
   "source": []
  }
 ],
 "metadata": {
  "colab": {
   "name": "Regular Expressions.ipynb",
   "provenance": []
  },
  "kernelspec": {
   "display_name": "Python 3",
   "language": "python",
   "name": "python3"
  },
  "language_info": {
   "codemirror_mode": {
    "name": "ipython",
    "version": 3
   },
   "file_extension": ".py",
   "mimetype": "text/x-python",
   "name": "python",
   "nbconvert_exporter": "python",
   "pygments_lexer": "ipython3",
   "version": "3.9.7"
  }
 },
 "nbformat": 4,
 "nbformat_minor": 1
}
